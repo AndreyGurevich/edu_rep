{
 "cells": [
  {
   "cell_type": "markdown",
   "metadata": {},
   "source": [
    "Загрузите обучающую и тестовую выборки из файлов perceptron-train.csv и perceptron-test.csv. \n",
    "Целевая переменная записана в первом столбце, признаки — во втором и третьем.\n",
    "Обучите персептрон со стандартными параметрами и random_state=241.\n",
    "Подсчитайте качество (долю правильно классифицированных объектов, accuracy) полученного классификатора на тестовой выборке.\n",
    "Нормализуйте обучающую и тестовую выборку с помощью класса StandardScaler.\n",
    "Обучите персептрон на новой выборке. Найдите долю правильных ответов на тестовой выборке.\n",
    "Найдите разность между качеством на тестовой выборке после нормализации и качеством до нее. \n",
    "Это число и будет ответом на задание.\n",
    "Если ответом является нецелое число, то целую и дробную часть необходимо разграничивать точкой, например, 0.421. \n",
    "При необходимости округляйте дробную часть до трех знаков."
   ]
  },
  {
   "cell_type": "code",
   "execution_count": 12,
   "metadata": {},
   "outputs": [
    {
     "name": "stdout",
     "output_type": "stream",
     "text": [
      "     0         1            2\n",
      "0 -1.0 -0.024626  1174.600238\n",
      "1  1.0 -0.978058  1083.198803\n",
      "2 -1.0  0.314272 -1472.977609\n",
      "3 -1.0  0.179752   231.017267\n",
      "4  1.0 -1.262544  -778.271726\n",
      "          1            2\n",
      "0 -0.024626  1174.600238\n",
      "1 -0.978058  1083.198803\n",
      "2  0.314272 -1472.977609\n",
      "3  0.179752   231.017267\n",
      "4 -1.262544  -778.271726\n",
      "0   -1.0\n",
      "1    1.0\n",
      "2   -1.0\n",
      "3   -1.0\n",
      "4    1.0\n",
      "Name: 0, dtype: float64\n"
     ]
    }
   ],
   "source": [
    "import pandas as pd\n",
    "from sklearn.linear_model import Perceptron\n",
    "from sklearn.metrics import accuracy_score\n",
    "\n",
    "train_data = pd.read_csv(\".\\input\\perceptron-train.csv\",header=None)\n",
    "print(train_data.head())\n",
    "X = train_data.iloc[:,1:3]\n",
    "Y = train_data.iloc[:,0]\n",
    "print(X.head())\n",
    "print(Y.head())\n",
    "\n",
    "test_data = pd.read_csv(\".\\input\\perceptron-test.csv\",header=None)\n",
    "\n",
    "\n"
   ]
  },
  {
   "cell_type": "code",
   "execution_count": 18,
   "metadata": {},
   "outputs": [
    {
     "data": {
      "text/plain": [
       "0.65500000000000003"
      ]
     },
     "execution_count": 18,
     "metadata": {},
     "output_type": "execute_result"
    }
   ],
   "source": [
    "clf = Perceptron(random_state=241)\n",
    "\n",
    "clf.fit(X, Y)\n",
    "predictions = clf.predict(test_data.iloc[:,1:3].as_matrix())\n",
    "\n",
    "#accuracy_score(y_true, y_pred, normalize=True, sample_weight=None)\n",
    "accuracy_score(test_data.iloc[:,0].as_matrix(), predictions)\n"
   ]
  },
  {
   "cell_type": "code",
   "execution_count": 22,
   "metadata": {},
   "outputs": [
    {
     "data": {
      "text/plain": [
       "0.84499999999999997"
      ]
     },
     "execution_count": 22,
     "metadata": {},
     "output_type": "execute_result"
    }
   ],
   "source": [
    "from sklearn.preprocessing import StandardScaler\n",
    "scaler = StandardScaler()\n",
    "\n",
    "X_scaled = scaler.fit_transform(X)\n",
    "X_test_scaled = scaler.transform(test_data.iloc[:,1:3].as_matrix())\n",
    "clf_scaled = Perceptron(random_state=241)\n",
    "\n",
    "clf_scaled.fit(X_scaled, Y)\n",
    "\n",
    "predictions_scaled = clf_scaled.predict(X_test_scaled)\n",
    "accuracy_score(test_data.iloc[:,0].as_matrix(), predictions_scaled)\n",
    "\n"
   ]
  },
  {
   "cell_type": "code",
   "execution_count": 23,
   "metadata": {},
   "outputs": [
    {
     "data": {
      "text/plain": [
       "0.18999999999999995"
      ]
     },
     "execution_count": 23,
     "metadata": {},
     "output_type": "execute_result"
    }
   ],
   "source": [
    "0.84499999999999997-0.65500000000000003"
   ]
  },
  {
   "cell_type": "code",
   "execution_count": null,
   "metadata": {
    "collapsed": true
   },
   "outputs": [],
   "source": []
  }
 ],
 "metadata": {
  "kernelspec": {
   "display_name": "Python 3",
   "language": "python",
   "name": "python3"
  },
  "language_info": {
   "codemirror_mode": {
    "name": "ipython",
    "version": 3
   },
   "file_extension": ".py",
   "mimetype": "text/x-python",
   "name": "python",
   "nbconvert_exporter": "python",
   "pygments_lexer": "ipython3",
   "version": "3.6.1"
  }
 },
 "nbformat": 4,
 "nbformat_minor": 2
}
