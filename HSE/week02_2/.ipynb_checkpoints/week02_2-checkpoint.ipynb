{
 "cells": [
  {
   "cell_type": "code",
   "execution_count": null,
   "metadata": {
    "collapsed": false
   },
   "outputs": [],
   "source": [
    "from sklearn.datasets import load_boston\n",
    "import pandas as pd\n",
    "import numpy\n",
    "from sklearn.neighbors import KNeighborsRegressor\n",
    "from sklearn.model_selection  import KFold\n",
    "from sklearn.model_selection  import GridSearchCV\n",
    "from sklearn.preprocessing import scale\n",
    "\n",
    "boston = load_boston()\n",
    "print(boston.data.shape)\n",
    "\n",
    "scaled_data = scale(boston.data)\n",
    "target_data = pd.DataFrame(boston.target)\n",
    "\n",
    "kfold = KFold(n_splits=5, shuffle=True, random_state=42)\n",
    "knn_params = {'p' : numpy.linspace(1, 10, num=200)} #\n",
    "clf_knn = KNeighborsRegressor(metric='minkowski',n_neighbors=5, weights='distance')\n",
    "gridCV = GridSearchCV(clf_knn, knn_params, scoring='neg_mean_squared_error', cv=kfold, n_jobs=1)\n",
    "\n",
    "gridCV.fit(scaled_data, target_data)\n",
    "print(gridCV.best_params_)\n",
    "print(gridCV.best_score_)\n"
   ]
  },
  {
   "cell_type": "code",
   "execution_count": null,
   "metadata": {
    "collapsed": true
   },
   "outputs": [],
   "source": []
  }
 ],
 "metadata": {
  "kernelspec": {
   "display_name": "Python 3",
   "language": "python",
   "name": "python3"
  },
  "language_info": {
   "codemirror_mode": {
    "name": "ipython",
    "version": 3
   },
   "file_extension": ".py",
   "mimetype": "text/x-python",
   "name": "python",
   "nbconvert_exporter": "python",
   "pygments_lexer": "ipython3",
   "version": "3.6.0"
  }
 },
 "nbformat": 4,
 "nbformat_minor": 2
}
