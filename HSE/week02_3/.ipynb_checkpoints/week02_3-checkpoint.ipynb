{
 "cells": [
  {
   "cell_type": "markdown",
   "metadata": {},
   "source": [
    "Загрузите обучающую и тестовую выборки из файлов perceptron-train.csv и perceptron-test.csv. \n",
    "Целевая переменная записана в первом столбце, признаки — во втором и третьем.\n",
    "Обучите персептрон со стандартными параметрами и random_state=241.\n",
    "Подсчитайте качество (долю правильно классифицированных объектов, accuracy) полученного классификатора на тестовой выборке.\n",
    "Нормализуйте обучающую и тестовую выборку с помощью класса StandardScaler.\n",
    "Обучите персептрон на новой выборке. Найдите долю правильных ответов на тестовой выборке.\n",
    "Найдите разность между качеством на тестовой выборке после нормализации и качеством до нее. \n",
    "Это число и будет ответом на задание.\n",
    "Если ответом является нецелое число, то целую и дробную часть необходимо разграничивать точкой, например, 0.421. \n",
    "При необходимости округляйте дробную часть до трех знаков."
   ]
  },
  {
   "cell_type": "code",
   "execution_count": 36,
   "metadata": {
    "collapsed": false
   },
   "outputs": [],
   "source": [
    "import pandas as pd\n",
    "from sklearn.neighbors import KNeighborsClassifier\n",
    "from sklearn.model_selection  import KFold\n",
    "from sklearn.model_selection  import GridSearchCV\n",
    "from sklearn.preprocessing import scale\n",
    "\n",
    "data = pd.read_csv(\".\\input\\wine.data\",header=None)\n",
    "\n",
    "test_data = data[0]\n",
    "train_data = data.iloc[:,1:14]\n",
    "\n"
   ]
  },
  {
   "cell_type": "code",
   "execution_count": 37,
   "metadata": {
    "collapsed": false
   },
   "outputs": [
    {
     "name": "stdout",
     "output_type": "stream",
     "text": [
      "{'n_neighbors': 1}\n",
      "0.730337078652\n",
      "{'n_neighbors': 29}\n",
      "0.977528089888\n"
     ]
    }
   ],
   "source": [
    "\n",
    "kfold = KFold(n_splits=5, shuffle=True, random_state=42)\n",
    "knn_params = {'n_neighbors' : range(1,50)}\n",
    "clf_knn = KNeighborsClassifier(n_jobs=1)\n",
    "gridCV = GridSearchCV(clf_knn, knn_params, scoring='accuracy', cv=kfold, n_jobs=1)\n",
    "\n",
    "gridCV.fit(train_data, test_data)\n",
    "print(gridCV.best_params_)\n",
    "print(gridCV.best_score_)\n",
    "\n",
    "\n",
    "scaled_train_data = scale(train_data, axis=0, with_mean=True, with_std=True, copy=False)\n",
    "\n",
    "gridCV.fit(scaled_train_data, test_data)\n",
    "print(gridCV.best_params_)\n",
    "print(gridCV.best_score_)"
   ]
  },
  {
   "cell_type": "code",
   "execution_count": null,
   "metadata": {
    "collapsed": true
   },
   "outputs": [],
   "source": []
  }
 ],
 "metadata": {
  "kernelspec": {
   "display_name": "Python 3",
   "language": "python",
   "name": "python3"
  },
  "language_info": {
   "codemirror_mode": {
    "name": "ipython",
    "version": 3
   },
   "file_extension": ".py",
   "mimetype": "text/x-python",
   "name": "python",
   "nbconvert_exporter": "python",
   "pygments_lexer": "ipython3",
   "version": "3.6.0"
  }
 },
 "nbformat": 4,
 "nbformat_minor": 2
}
