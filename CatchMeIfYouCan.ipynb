{
 "cells": [
  {
   "cell_type": "code",
   "execution_count": 49,
   "metadata": {
    "collapsed": true
   },
   "outputs": [],
   "source": [
    "def check_white_list(site_id):\n",
    "    if math.isnan(site_id): return -1\n",
    "    if site_id in white_list: return 1\n",
    "    else: return 0"
   ]
  },
  {
   "cell_type": "code",
   "execution_count": 50,
   "metadata": {
    "collapsed": false
   },
   "outputs": [],
   "source": [
    "import pandas as pd\n",
    "import math\n",
    "#import numpy as np\n",
    "data = pd.read_csv(\"/resources/data/CatchMeIfYouCan/train_sessions.csv\")\n",
    "#задел на будущее: проверять час, в который Алиса посещает сайт. \n",
    "#Если она пользуется интернетом только днём, то начало сессии ночью должно насторожить\n",
    "\n",
    "#Формируем белый список из сайтов, по которым ходит Алиса. Если сайт не из белого списка - с большой вероятностью это не она\n",
    "white_list = []\n",
    "s01 = pd.DataFrame(data[data[\"target\"]==1][\"site1\"].unique())\n",
    "s02 = pd.DataFrame(data[data[\"target\"]==1][\"site2\"].unique())\n",
    "s03 = pd.DataFrame(data[data[\"target\"]==1][\"site3\"].unique())\n",
    "s04 = pd.DataFrame(data[data[\"target\"]==1][\"site4\"].unique())\n",
    "s05 = pd.DataFrame(data[data[\"target\"]==1][\"site5\"].unique())\n",
    "s06 = pd.DataFrame(data[data[\"target\"]==1][\"site6\"].unique())\n",
    "s07 = pd.DataFrame(data[data[\"target\"]==1][\"site7\"].unique())\n",
    "s08 = pd.DataFrame(data[data[\"target\"]==1][\"site8\"].unique())\n",
    "s09 = pd.DataFrame(data[data[\"target\"]==1][\"site9\"].unique())\n",
    "s10 = pd.DataFrame(data[data[\"target\"]==1][\"site10\"].unique())\n",
    "white_list = pd.concat([s01,s02,s03,s04,s05,s06,s07,s08,s09,s10])[0].unique()\n",
    "\n",
    "\n",
    "# значения IsWhiteSite01:\n",
    "# -1 - не было сайта\n",
    "# 0 - сайт НЕ в белом списке\n",
    "# 1 - сайт в белом списке\n",
    "data[\"IsWhiteSite01\"] = data[\"site1\"].map(check_white_list)\n",
    "data[\"IsWhiteSite02\"] = data[\"site2\"].map(check_white_list)\n",
    "data[\"IsWhiteSite03\"] = data[\"site3\"].map(check_white_list)\n",
    "data[\"IsWhiteSite04\"] = data[\"site4\"].map(check_white_list)\n",
    "data[\"IsWhiteSite05\"] = data[\"site5\"].map(check_white_list)\n",
    "data[\"IsWhiteSite06\"] = data[\"site6\"].map(check_white_list)\n",
    "data[\"IsWhiteSite07\"] = data[\"site7\"].map(check_white_list)\n",
    "data[\"IsWhiteSite08\"] = data[\"site8\"].map(check_white_list)\n",
    "data[\"IsWhiteSite09\"] = data[\"site9\"].map(check_white_list)\n",
    "data[\"IsWhiteSite10\"] = data[\"site10\"].map(check_white_list)\n",
    "\n"
   ]
  },
  {
   "cell_type": "code",
   "execution_count": null,
   "metadata": {
    "collapsed": false
   },
   "outputs": [],
   "source": [
    "data[[\"IsWhiteSite10\",\"site10\"]]"
   ]
  },
  {
   "cell_type": "code",
   "execution_count": 52,
   "metadata": {
    "collapsed": false
   },
   "outputs": [
    {
     "data": {
      "text/plain": [
       "DecisionTreeClassifier(class_weight=None, criterion='gini', max_depth=None,\n",
       "            max_features=None, max_leaf_nodes=None, min_samples_leaf=1,\n",
       "            min_samples_split=2, min_weight_fraction_leaf=0.0,\n",
       "            presort=False, random_state=None, splitter='best')"
      ]
     },
     "execution_count": 52,
     "metadata": {},
     "output_type": "execute_result"
    }
   ],
   "source": [
    "from sklearn.tree import DecisionTreeClassifier\n",
    "clf = DecisionTreeClassifier()\n",
    "learn_source = data[[\"IsWhiteSite01\",\"IsWhiteSite02\",\"IsWhiteSite03\",\"IsWhiteSite04\",\"IsWhiteSite05\",\"IsWhiteSite06\",\"IsWhiteSite07\",\"IsWhiteSite08\",\"IsWhiteSite09\",\"IsWhiteSite10\"]]\n",
    "learn_classes = data[[\"target\"]]\n"
   ]
  },
  {
   "cell_type": "raw",
   "metadata": {},
   "source": [
    "А ниже мы будем пробовать тестовые значения"
   ]
  },
  {
   "cell_type": "code",
   "execution_count": 91,
   "metadata": {
    "collapsed": false
   },
   "outputs": [],
   "source": [
    "test_data = pd.read_csv(\"/resources/data/CatchMeIfYouCan/test_sessions.csv\")\n",
    "test_data[\"target\"] = abs(test_data[\"site1\"].map(check_white_list)*test_data[\"site2\"].map(check_white_list)*test_data[\"site3\"].map(check_white_list)*test_data[\"site4\"].map(check_white_list)* test_data[\"site5\"].map(check_white_list)* test_data[\"site6\"].map(check_white_list)* test_data[\"site7\"].map(check_white_list)* test_data[\"site8\"].map(check_white_list)* test_data[\"site9\"].map(check_white_list)* test_data[\"site10\"].map(check_white_list))\n",
    "\n",
    "data[\"target\"] = data[\"target\"].map(somefun)\n",
    "#= clf.predict(test_data[[\"IsWhiteSite01\",\"IsWhiteSite02\",\"IsWhiteSite03\",\"IsWhiteSite04\",\"IsWhiteSite05\",\"IsWhiteSite06\",\"IsWhiteSite07\",\"IsWhiteSite08\",\"IsWhiteSite09\",\"IsWhiteSite10\"]])"
   ]
  },
  {
   "cell_type": "code",
   "execution_count": 92,
   "metadata": {
    "collapsed": false
   },
   "outputs": [],
   "source": [
    "test_data.to_csv(\"/resources/data/CatchMeIfYouCan/predict09.csv\",columns=[\"session_id\",\"target\"],index=False,header=True)"
   ]
  },
  {
   "cell_type": "code",
   "execution_count": 64,
   "metadata": {
    "collapsed": false
   },
   "outputs": [
    {
     "data": {
      "text/plain": [
       "0"
      ]
     },
     "execution_count": 64,
     "metadata": {},
     "output_type": "execute_result"
    }
   ],
   "source": [
    "1 and -1 and 1 and -1 and 0"
   ]
  },
  {
   "cell_type": "code",
   "execution_count": 90,
   "metadata": {
    "collapsed": true
   },
   "outputs": [],
   "source": [
    "import random\n",
    "def somefun(z):\n",
    "    if z==0: return 0\n",
    "    if random.random()>=0.5: return 1\n",
    "    else: return 0"
   ]
  },
  {
   "cell_type": "code",
   "execution_count": null,
   "metadata": {
    "collapsed": true
   },
   "outputs": [],
   "source": []
  }
 ],
 "metadata": {
  "kernelspec": {
   "display_name": "Python 3",
   "language": "python",
   "name": "python3"
  },
  "language_info": {
   "codemirror_mode": {
    "name": "ipython",
    "version": 3
   },
   "file_extension": ".py",
   "mimetype": "text/x-python",
   "name": "python",
   "nbconvert_exporter": "python",
   "pygments_lexer": "ipython3",
   "version": "3.4.3"
  },
  "widgets": {
   "state": {},
   "version": "1.1.2"
  }
 },
 "nbformat": 4,
 "nbformat_minor": 0
}
