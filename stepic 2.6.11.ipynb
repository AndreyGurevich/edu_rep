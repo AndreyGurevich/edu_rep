{
 "cells": [
  {
   "cell_type": "code",
   "execution_count": 17,
   "metadata": {
    "collapsed": false
   },
   "outputs": [
    {
     "name": "stdout",
     "output_type": "stream",
     "text": [
      "6\n",
      "1 2 3 4 5 6 \n",
      "20 21 22 23 24 7 \n",
      "19 32 33 34 25 8 \n",
      "18 31 36 35 26 9 \n",
      "17 30 29 28 27 10 \n",
      "16 15 14 13 12 11 \n"
     ]
    }
   ],
   "source": [
    "#https://stepik.org/lesson/%D0%97%D0%B0%D0%B4%D0%B0%D1%87%D0%B8-%D0%BF%D0%BE-%D0%BC%D0%B0%D1%82%D0%B5%D1%80%D0%B8%D0%B0%D0%BB%D0%B0%D0%BC-%D0%BD%D0%B5%D0%B4%D0%B5%D0%BB%D0%B8-3369/step/11?course=%D0%9F%D1%80%D0%BE%D0%B3%D1%80%D0%B0%D0%BC%D0%BC%D0%B8%D1%80%D0%BE%D0%B2%D0%B0%D0%BD%D0%B8%D0%B5-%D0%BD%D0%B0-Python&unit=952\n",
    "n = int(input())\n",
    "\n",
    "#1. идём вправо\n",
    "#2. если дошли до последней ячейки, начинаем идти вниз\n",
    "#3. если дошли до последней ячнйки, меняем направление на следующее\n",
    "#4. если дошли до заполненной ячейки, меняем направление на следующее\n",
    "\n",
    "#значит нам нужен массив направлений\n",
    "#и некое число, которое будет указывать на текущее направление. Если надо сменить на следующее - увеличиваем число\n",
    "directions = [\"right\", \"down\", \"left\", \"up\"]\n",
    "dir_count = 0\n",
    "\n",
    "#инициализируем матрицу, которую потом заполнять будем\n",
    "matrix=[]\n",
    "for i in range(n):\n",
    "    matrix.append([0] * n)\n",
    "\n",
    "    \n",
    "def next_step(caller):\n",
    "    global dir_count\n",
    "    global col\n",
    "    global row\n",
    "    #print(\"caller=\",caller)\n",
    "    if (directions[dir_count%4]==\"right\"):\n",
    "        if (col==n-1) or (matrix[row][col+1]>0):\n",
    "            dir_count+=1\n",
    "            next_step(\"right\")\n",
    "            return\n",
    "        else: \n",
    "            col +=1\n",
    "    #        print(\"row=\",row, \"; col=\", col,\"i=\",i, \"go right\")\n",
    "    if (directions[dir_count%4]==\"down\"):\n",
    "        if (row==n-1) or (matrix[row+1][col]>0):\n",
    "            dir_count+=1\n",
    "            next_step(\"down\")\n",
    "            return\n",
    "        else: \n",
    "            row +=1\n",
    "    #        print(\"row=\",row, \"; col=\", col,\"i=\",i, \"go down\")\n",
    "    if (directions[dir_count%4]==\"left\"):\n",
    "        if (col==0) or (matrix[row][col-1]>0):\n",
    "            dir_count+=1\n",
    "            next_step(\"left\")\n",
    "            return\n",
    "        else: \n",
    "            col -=1  \n",
    "    #        print(\"row=\",row, \"; col=\", col,\"i=\",i, \"go left\")\n",
    "    if (directions[dir_count%4]==\"up\"):\n",
    "        if (row==0) or (matrix[row-1][col]>0):\n",
    "            dir_count+=1\n",
    "            next_step(\"up\")\n",
    "            return\n",
    "        else: \n",
    "            row -=1 \n",
    "    #        print(\"row=\",row, \"; col=\", col,\"i=\",i, \"go up\")\n",
    "\n",
    "            \n",
    "row=0\n",
    "col=0\n",
    "for i in range(1,n*n+1):\n",
    "    #print(\"row=\",row, \"; col=\", col,\"; i=\",i,\"; dir_count=\",dir_count)\n",
    "    matrix[row][col] = i\n",
    "    if i<n*n: next_step(\"main\")\n",
    "        \n",
    "for i in range(0,n):\n",
    "    for j in range(0,n):\n",
    "        print(matrix[i][j], end=\" \")\n",
    "    print()"
   ]
  },
  {
   "cell_type": "code",
   "execution_count": 5,
   "metadata": {
    "collapsed": false
   },
   "outputs": [
    {
     "name": "stdout",
     "output_type": "stream",
     "text": [
      "right\n",
      "down\n",
      "left\n",
      "up\n",
      "right\n",
      "down\n",
      "left\n",
      "up\n",
      "right\n",
      "down\n",
      "left\n",
      "up\n",
      "right\n",
      "down\n",
      "left\n",
      "up\n",
      "right\n",
      "down\n",
      "left\n",
      "up\n",
      "right\n",
      "down\n",
      "left\n",
      "up\n"
     ]
    }
   ],
   "source": [
    "#проверка того, как через остаток от деления забирать актуальное направление\n",
    "for i in range(0,n-1):\n",
    "    print(directions[(i%4)])"
   ]
  },
  {
   "cell_type": "code",
   "execution_count": 14,
   "metadata": {
    "collapsed": false
   },
   "outputs": [
    {
     "data": {
      "text/plain": [
       "[[1, 2, 3, 4, 5, 6],\n",
       " [20, 21, 22, 23, 24, 7],\n",
       " [19, 32, 33, 34, 25, 8],\n",
       " [18, 31, 36, 35, 26, 9],\n",
       " [17, 30, 29, 28, 27, 10],\n",
       " [16, 15, 14, 13, 12, 11]]"
      ]
     },
     "execution_count": 14,
     "metadata": {},
     "output_type": "execute_result"
    }
   ],
   "source": [
    "matrix"
   ]
  },
  {
   "cell_type": "code",
   "execution_count": 2,
   "metadata": {
    "collapsed": false
   },
   "outputs": [
    {
     "ename": "NameError",
     "evalue": "name 'matrix' is not defined",
     "output_type": "error",
     "traceback": [
      "\u001b[0;31m---------------------------------------------------------------------------\u001b[0m",
      "\u001b[0;31mNameError\u001b[0m                                 Traceback (most recent call last)",
      "\u001b[0;32m<ipython-input-2-4b03c66c62ce>\u001b[0m in \u001b[0;36m<module>\u001b[0;34m()\u001b[0m\n\u001b[1;32m      1\u001b[0m \u001b[1;32mfor\u001b[0m \u001b[0mi\u001b[0m \u001b[1;32min\u001b[0m \u001b[0mrange\u001b[0m\u001b[1;33m(\u001b[0m\u001b[1;36m5\u001b[0m\u001b[1;33m)\u001b[0m\u001b[1;33m:\u001b[0m\u001b[1;33m\u001b[0m\u001b[0m\n\u001b[0;32m----> 2\u001b[0;31m     \u001b[0mmatrix\u001b[0m\u001b[1;33m.\u001b[0m\u001b[0mappend\u001b[0m\u001b[1;33m(\u001b[0m\u001b[1;33m[\u001b[0m\u001b[1;36m0\u001b[0m\u001b[1;33m]\u001b[0m \u001b[1;33m*\u001b[0m \u001b[1;36m5\u001b[0m\u001b[1;33m)\u001b[0m\u001b[1;33m\u001b[0m\u001b[0m\n\u001b[0m\u001b[1;32m      3\u001b[0m \u001b[0mprint\u001b[0m\u001b[1;33m(\u001b[0m\u001b[0mmatrix\u001b[0m    \u001b[1;33m)\u001b[0m\u001b[1;33m\u001b[0m\u001b[0m\n",
      "\u001b[0;31mNameError\u001b[0m: name 'matrix' is not defined"
     ]
    }
   ],
   "source": [
    "for i in range(5):\n",
    "    matrix.append([0] * 5)\n",
    "print(matrix    )"
   ]
  },
  {
   "cell_type": "code",
   "execution_count": 32,
   "metadata": {
    "collapsed": false
   },
   "outputs": [
    {
     "data": {
      "text/plain": [
       "4"
      ]
     },
     "execution_count": 32,
     "metadata": {},
     "output_type": "execute_result"
    }
   ],
   "source": [
    "col"
   ]
  },
  {
   "cell_type": "code",
   "execution_count": 57,
   "metadata": {
    "collapsed": false
   },
   "outputs": [
    {
     "name": "stdout",
     "output_type": "stream",
     "text": [
      "[[1, 2, 3, 99, 8], [1, 2, 3, 99, 8], [1, 2, 3, 99, 8], [1, 2, 3, 99, 8], 9]\n"
     ]
    }
   ],
   "source": [
    "matrix[0][3]=99\n",
    "print(matrix)"
   ]
  },
  {
   "cell_type": "code",
   "execution_count": 61,
   "metadata": {
    "collapsed": false
   },
   "outputs": [
    {
     "name": "stdout",
     "output_type": "stream",
     "text": [
      "[[1, 2, 3, 4, 0], [1, 2, 3, 4, 0], [1, 2, 3, 4, 0], [1, 2, 3, 4, 0], [1, 2, 3, 4, 0]]\n",
      "[[1, 7, 3, 4, 0], [1, 2, 3, 4, 0], [1, 2, 3, 4, 0], [1, 2, 3, 4, 0], [1, 2, 3, 4, 0]]\n"
     ]
    }
   ],
   "source": [
    "a = [[1, 2, 3, 4, 0], [1, 2, 3, 4, 0], [1, 2, 3, 4, 0], [1, 2, 3, 4, 0], [1, 2, 3, 4, 0]]\n",
    "print(a)\n",
    "a[0][1] = 7\n",
    "print(a)\n"
   ]
  },
  {
   "cell_type": "code",
   "execution_count": null,
   "metadata": {
    "collapsed": true
   },
   "outputs": [],
   "source": []
  }
 ],
 "metadata": {
  "kernelspec": {
   "display_name": "Python 3",
   "language": "python",
   "name": "python3"
  }
 },
 "nbformat": 4,
 "nbformat_minor": 2
}
