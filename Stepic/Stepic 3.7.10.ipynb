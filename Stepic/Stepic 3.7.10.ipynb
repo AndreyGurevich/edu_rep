{
 "cells": [
  {
   "cell_type": "code",
   "execution_count": null,
   "metadata": {
    "collapsed": false
   },
   "outputs": [],
   "source": [
    "data = open(\"Downloads/sample.txt\",\"r\",encoding=\"utf8\").read().split(\"\\n\")\n",
    "#Фамилия;Оценка_по_математике;Оценка_по_физике;Оценка_по_русскому_языку\n",
    "avg_math = 0\n",
    "avg_phis = 0\n",
    "avg_rus = 0\n",
    "count = 0\n",
    "for i in data:\n",
    "    if len(i)==0: break\n",
    "    temp = i.split(\";\")\n",
    "    #print(temp)\n",
    "    avg_math +=int(temp[1])\n",
    "    avg_phis +=int(temp[2])\n",
    "    avg_rus +=int(temp[3])\n",
    "    count +=1\n",
    "    print((int(temp[1])+int(temp[2])+int(temp[3]))/3)\n",
    "    \n",
    "print(avg_math/count, end = \" \")\n",
    "print(avg_phis/count, end = \" \")\n",
    "print(avg_rus/count, end = \" \")"
   ]
  },
  {
   "cell_type": "code",
   "execution_count": 16,
   "metadata": {
    "collapsed": false
   },
   "outputs": [
    {
     "name": "stdout",
     "output_type": "stream",
     "text": [
      "3\n",
      "Зенит;3;Спартак;1\n",
      "Спартак;1;ЦСКА;1\n",
      "ЦСКА;0;Зенит;2\n",
      "Зенит : З е н и т\n",
      "Спартак : С п а р т\n"
     ]
    },
    {
     "ename": "IndexError",
     "evalue": "string index out of range",
     "output_type": "error",
     "traceback": [
      "\u001b[0;31m---------------------------------------------------------------------------\u001b[0m",
      "\u001b[0;31mIndexError\u001b[0m                                Traceback (most recent call last)",
      "\u001b[0;32m<ipython-input-16-6952b170f29a>\u001b[0m in \u001b[0;36m<module>\u001b[0;34m()\u001b[0m\n\u001b[1;32m     38\u001b[0m \u001b[1;31m#Команда:Всего_игр Побед Ничьих Поражений Всего_очков\u001b[0m\u001b[1;33m\u001b[0m\u001b[1;33m\u001b[0m\u001b[0m\n\u001b[1;32m     39\u001b[0m \u001b[1;32mfor\u001b[0m \u001b[0mi\u001b[0m \u001b[1;32min\u001b[0m \u001b[0mteams\u001b[0m\u001b[1;33m:\u001b[0m\u001b[1;33m\u001b[0m\u001b[0m\n\u001b[0;32m---> 40\u001b[0;31m     \u001b[0mprint\u001b[0m\u001b[1;33m(\u001b[0m\u001b[0mi\u001b[0m\u001b[1;33m,\u001b[0m\u001b[1;34m\":\"\u001b[0m\u001b[1;33m,\u001b[0m\u001b[0mi\u001b[0m\u001b[1;33m[\u001b[0m\u001b[1;36m0\u001b[0m\u001b[1;33m]\u001b[0m\u001b[1;33m,\u001b[0m\u001b[0mi\u001b[0m\u001b[1;33m[\u001b[0m\u001b[1;36m1\u001b[0m\u001b[1;33m]\u001b[0m\u001b[1;33m,\u001b[0m\u001b[0mi\u001b[0m\u001b[1;33m[\u001b[0m\u001b[1;36m2\u001b[0m\u001b[1;33m]\u001b[0m\u001b[1;33m,\u001b[0m\u001b[0mi\u001b[0m\u001b[1;33m[\u001b[0m\u001b[1;36m3\u001b[0m\u001b[1;33m]\u001b[0m\u001b[1;33m,\u001b[0m\u001b[0mi\u001b[0m\u001b[1;33m[\u001b[0m\u001b[1;36m4\u001b[0m\u001b[1;33m]\u001b[0m\u001b[1;33m)\u001b[0m\u001b[1;33m\u001b[0m\u001b[0m\n\u001b[0m",
      "\u001b[0;31mIndexError\u001b[0m: string index out of range"
     ]
    }
   ],
   "source": [
    "n = int(input())\n",
    "#Команда:Всего_игр Побед Ничьих Поражений Всего_очков\n",
    "#            0       1     2       3          4\n",
    "teams = {}\n",
    "#team_res = [0,0,0,0,0]\n",
    "for i in range(0, n):\n",
    "    #print(\"teams=\",teams)\n",
    "    temp = input().split(\";\")\n",
    "    #print(\"temp=\",temp)\n",
    "    if temp[0] not in teams: teams[temp[0]]=[0,0,0,0,0]\n",
    "    if temp[2] not in teams: teams[temp[2]]=[0,0,0,0,0]\n",
    "    #print(\"teams[temp[0]] = \", teams[temp[0]])\n",
    "    #Если победила левая команда: добавить ей 3 очка, 1 победу. Правой добавить 1 поражение\n",
    "    if int(temp[1]) > int(temp[3]): \n",
    "        #print(\"boo\")\n",
    "        teams[temp[0]][1] +=1 #победа\n",
    "        teams[temp[0]][4] +=3 #очки\n",
    "        teams[temp[2]][3] +=1 #Поражений\n",
    "    #Если победила правая команда: добавить ей 3 очка, 1 победу. Левой добавить 1 поражение\n",
    "    if int(temp[1]) < int(temp[3]): \n",
    "        #print(\"boo\")\n",
    "        teams[temp[2]][1] +=1 #победа\n",
    "        teams[temp[2]][4] +=3 #очки\n",
    "        teams[temp[0]][3] +=1 #Поражений\n",
    "    #Если ничья - добавить обеим по 1 очку и 1 ничьей\n",
    "    if int(temp[1]) == int(temp[3]): \n",
    "        #print(\"boo\")\n",
    "        teams[temp[0]][2] +=1 #Ничьих\n",
    "        teams[temp[0]][4] +=1 #очки\n",
    "        teams[temp[2]][2] +=1 #Ничьих\n",
    "        teams[temp[2]][4] +=1 #очки\n",
    "    \n",
    "    #Обеим командам добавить по одной игре\n",
    "    teams[temp[0]][0] +=1 #игр\n",
    "    teams[temp[2]][0] +=1 #игр\n",
    "    \n",
    "#Вывод программы необходимо оформить следующим образом:\n",
    "#Команда:Всего_игр Побед Ничьих Поражений Всего_очков\n",
    "for i in teams:\n",
    "    print(i+\":\", end=\"\")\n",
    "    print(teams[i][0],teams[i][1],teams[i][2],teams[i][3],teams[i][4])"
   ]
  },
  {
   "cell_type": "code",
   "execution_count": 19,
   "metadata": {
    "collapsed": false
   },
   "outputs": [
    {
     "name": "stdout",
     "output_type": "stream",
     "text": [
      "Зенит:2 2 0 0 6\n",
      "Спартак:2 0 1 1 1\n",
      "ЦСКА:2 0 1 1 1\n"
     ]
    }
   ],
   "source": [
    "for i in teams:\n",
    "    print(i+\":\", end=\"\")\n",
    "    print(teams[i][0],teams[i][1],teams[i][2],teams[i][3],teams[i][4])\n",
    "    "
   ]
  },
  {
   "cell_type": "code",
   "execution_count": 14,
   "metadata": {
    "collapsed": false
   },
   "outputs": [
    {
     "name": "stdout",
     "output_type": "stream",
     "text": [
      "0\n",
      "1\n",
      "2\n"
     ]
    }
   ],
   "source": [
    "for i in range(0, 3):\n",
    "    print(i)"
   ]
  },
  {
   "cell_type": "code",
   "execution_count": null,
   "metadata": {
    "collapsed": true
   },
   "outputs": [],
   "source": []
  }
 ],
 "metadata": {
  "kernelspec": {
   "display_name": "Python 3",
   "language": "python",
   "name": "python3"
  },
  "language_info": {
   "codemirror_mode": {
    "name": "ipython",
    "version": 3
   },
   "file_extension": ".py",
   "mimetype": "text/x-python",
   "name": "python",
   "nbconvert_exporter": "python",
   "pygments_lexer": "ipython3",
   "version": "3.6.0"
  }
 },
 "nbformat": 4,
 "nbformat_minor": 2
}
