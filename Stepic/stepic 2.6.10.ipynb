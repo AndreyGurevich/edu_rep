{
 "cells": [
  {
   "cell_type": "code",
   "execution_count": 21,
   "metadata": {
    "collapsed": false
   },
   "outputs": [
    {
     "name": "stdout",
     "output_type": "stream",
     "text": [
      "9 5\n",
      "1 2\n",
      "4 3\n",
      "end\n"
     ]
    }
   ],
   "source": [
    "def minus_1(x, base):\n",
    "    if x>0: return x-1\n",
    "    else: return base-1\n",
    "    \n",
    "def plus_1(x, base):\n",
    "    if x<base-1: return x+1\n",
    "    else: return 0\n",
    "    \n",
    "matrix = []\n",
    "res = []\n",
    "while True:\n",
    "    s = input()\n",
    "    if s==\"end\": break\n",
    "    temp = []\n",
    "    for i in s.split():\n",
    "        temp.append(int(i))\n",
    "    matrix.append(temp)\n",
    "           "
   ]
  },
  {
   "cell_type": "code",
   "execution_count": 22,
   "metadata": {
    "collapsed": false
   },
   "outputs": [
    {
     "data": {
      "text/plain": [
       "[[9, 5], [1, 2], [4, 3]]"
      ]
     },
     "execution_count": 22,
     "metadata": {},
     "output_type": "execute_result"
    }
   ],
   "source": [
    "matrix\n"
   ]
  },
  {
   "cell_type": "code",
   "execution_count": 45,
   "metadata": {
    "collapsed": false
   },
   "outputs": [
    {
     "name": "stdout",
     "output_type": "stream",
     "text": [
      "15 23 \n",
      "17 10 \n",
      "16 15 \n"
     ]
    }
   ],
   "source": [
    "for i in range(0, len(matrix)):\n",
    "    #res.append([])\n",
    "    for j in range(0, len(matrix[0])):\n",
    "        #print (\"i=\",str(i),\"; j=\",str(j))\n",
    "        new_elem  = matrix[minus_1(i,len(matrix))][j]\n",
    "        new_elem += matrix[plus_1(i,len(matrix))][j]\n",
    "        new_elem += matrix[i][minus_1(j,len(matrix[0]))]\n",
    "        new_elem += matrix[i][plus_1(j,len(matrix[0]))]\n",
    "        #res[i].append(new_elem)\n",
    "        print (new_elem, end=\" \")\n",
    "    print ()\n",
    "        \n",
    "\n",
    "        "
   ]
  },
  {
   "cell_type": "code",
   "execution_count": 43,
   "metadata": {
    "collapsed": false
   },
   "outputs": [
    {
     "data": {
      "text/plain": [
       "2"
      ]
     },
     "execution_count": 43,
     "metadata": {},
     "output_type": "execute_result"
    }
   ],
   "source": [
    "len(matrix[0])\n",
    "#minus_1(0,len(matrix))"
   ]
  },
  {
   "cell_type": "code",
   "execution_count": null,
   "metadata": {
    "collapsed": true
   },
   "outputs": [],
   "source": []
  }
 ],
 "metadata": {
  "kernelspec": {
   "display_name": "Python 3",
   "language": "python",
   "name": "python3"
  },
  "language_info": {
   "codemirror_mode": {
    "name": "ipython",
    "version": 3
   },
   "file_extension": ".py",
   "mimetype": "text/x-python",
   "name": "python",
   "nbconvert_exporter": "python",
   "pygments_lexer": "ipython3",
   "version": "3.4.3"
  },
  "widgets": {
   "state": {},
   "version": "1.1.2"
  }
 },
 "nbformat": 4,
 "nbformat_minor": 0
}
